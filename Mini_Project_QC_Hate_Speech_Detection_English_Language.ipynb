{
  "cells": [
    {
      "cell_type": "code",
      "execution_count": null,
      "metadata": {
        "colab": {
          "base_uri": "https://localhost:8080/"
        },
        "id": "P2F3qLlnU5Kx",
        "outputId": "5a706634-b5da-4b15-bf34-b863dcf49a90"
      },
      "outputs": [
        {
          "output_type": "stream",
          "name": "stdout",
          "text": [
            "Requirement already satisfied: torchquantum in /usr/local/lib/python3.10/dist-packages (0.1.7)\n",
            "Requirement already satisfied: numpy>=1.19.2 in /usr/local/lib/python3.10/dist-packages (from torchquantum) (1.22.4)\n",
            "Requirement already satisfied: torchvision>=0.9.0.dev20210130 in /usr/local/lib/python3.10/dist-packages (from torchquantum) (0.15.2+cu118)\n",
            "Requirement already satisfied: tqdm>=4.56.0 in /usr/local/lib/python3.10/dist-packages (from torchquantum) (4.65.0)\n",
            "Requirement already satisfied: setuptools>=52.0.0 in /usr/local/lib/python3.10/dist-packages (from torchquantum) (67.7.2)\n",
            "Requirement already satisfied: torch>=1.8.0 in /usr/local/lib/python3.10/dist-packages (from torchquantum) (2.0.1+cu118)\n",
            "Requirement already satisfied: torchpack>=0.3.0 in /usr/local/lib/python3.10/dist-packages (from torchquantum) (0.3.1)\n",
            "Requirement already satisfied: qiskit==0.38.0 in /usr/local/lib/python3.10/dist-packages (from torchquantum) (0.38.0)\n",
            "Requirement already satisfied: matplotlib>=3.3.2 in /usr/local/lib/python3.10/dist-packages (from torchquantum) (3.7.1)\n",
            "Requirement already satisfied: pathos>=0.2.7 in /usr/local/lib/python3.10/dist-packages (from torchquantum) (0.2.8)\n",
            "Requirement already satisfied: pylatexenc>=2.10 in /usr/local/lib/python3.10/dist-packages (from torchquantum) (2.10)\n",
            "Requirement already satisfied: dill==0.3.4 in /usr/local/lib/python3.10/dist-packages (from torchquantum) (0.3.4)\n",
            "Requirement already satisfied: qiskit-terra==0.21.2 in /usr/local/lib/python3.10/dist-packages (from qiskit==0.38.0->torchquantum) (0.21.2)\n",
            "Requirement already satisfied: qiskit-aer==0.11.0 in /usr/local/lib/python3.10/dist-packages (from qiskit==0.38.0->torchquantum) (0.11.0)\n",
            "Requirement already satisfied: qiskit-ibmq-provider==0.19.2 in /usr/local/lib/python3.10/dist-packages (from qiskit==0.38.0->torchquantum) (0.19.2)\n",
            "Requirement already satisfied: scipy>=1.0 in /usr/local/lib/python3.10/dist-packages (from qiskit-aer==0.11.0->qiskit==0.38.0->torchquantum) (1.10.0)\n",
            "Requirement already satisfied: requests>=2.19 in /usr/local/lib/python3.10/dist-packages (from qiskit-ibmq-provider==0.19.2->qiskit==0.38.0->torchquantum) (2.27.1)\n",
            "Requirement already satisfied: requests-ntlm>=1.1.0 in /usr/local/lib/python3.10/dist-packages (from qiskit-ibmq-provider==0.19.2->qiskit==0.38.0->torchquantum) (1.2.0)\n",
            "Requirement already satisfied: urllib3>=1.21.1 in /usr/local/lib/python3.10/dist-packages (from qiskit-ibmq-provider==0.19.2->qiskit==0.38.0->torchquantum) (1.26.16)\n",
            "Requirement already satisfied: python-dateutil>=2.8.0 in /usr/local/lib/python3.10/dist-packages (from qiskit-ibmq-provider==0.19.2->qiskit==0.38.0->torchquantum) (2.8.2)\n",
            "Requirement already satisfied: websocket-client>=1.0.1 in /usr/local/lib/python3.10/dist-packages (from qiskit-ibmq-provider==0.19.2->qiskit==0.38.0->torchquantum) (1.6.1)\n",
            "Requirement already satisfied: websockets>=10.0 in /usr/local/lib/python3.10/dist-packages (from qiskit-ibmq-provider==0.19.2->qiskit==0.38.0->torchquantum) (11.0.3)\n",
            "Requirement already satisfied: retworkx>=0.11.0 in /usr/local/lib/python3.10/dist-packages (from qiskit-terra==0.21.2->qiskit==0.38.0->torchquantum) (0.13.0)\n",
            "Requirement already satisfied: ply>=3.10 in /usr/local/lib/python3.10/dist-packages (from qiskit-terra==0.21.2->qiskit==0.38.0->torchquantum) (3.11)\n",
            "Requirement already satisfied: psutil>=5 in /usr/local/lib/python3.10/dist-packages (from qiskit-terra==0.21.2->qiskit==0.38.0->torchquantum) (5.9.5)\n",
            "Requirement already satisfied: sympy>=1.3 in /usr/local/lib/python3.10/dist-packages (from qiskit-terra==0.21.2->qiskit==0.38.0->torchquantum) (1.11.1)\n",
            "Requirement already satisfied: stevedore>=3.0.0 in /usr/local/lib/python3.10/dist-packages (from qiskit-terra==0.21.2->qiskit==0.38.0->torchquantum) (5.1.0)\n",
            "Requirement already satisfied: tweedledum<2.0,>=1.1 in /usr/local/lib/python3.10/dist-packages (from qiskit-terra==0.21.2->qiskit==0.38.0->torchquantum) (1.1.1)\n",
            "Requirement already satisfied: symengine>=0.9 in /usr/local/lib/python3.10/dist-packages (from qiskit-terra==0.21.2->qiskit==0.38.0->torchquantum) (0.10.0)\n",
            "Requirement already satisfied: contourpy>=1.0.1 in /usr/local/lib/python3.10/dist-packages (from matplotlib>=3.3.2->torchquantum) (1.1.0)\n",
            "Requirement already satisfied: cycler>=0.10 in /usr/local/lib/python3.10/dist-packages (from matplotlib>=3.3.2->torchquantum) (0.11.0)\n",
            "Requirement already satisfied: fonttools>=4.22.0 in /usr/local/lib/python3.10/dist-packages (from matplotlib>=3.3.2->torchquantum) (4.41.0)\n",
            "Requirement already satisfied: kiwisolver>=1.0.1 in /usr/local/lib/python3.10/dist-packages (from matplotlib>=3.3.2->torchquantum) (1.4.4)\n",
            "Requirement already satisfied: packaging>=20.0 in /usr/local/lib/python3.10/dist-packages (from matplotlib>=3.3.2->torchquantum) (23.1)\n",
            "Requirement already satisfied: pillow>=6.2.0 in /usr/local/lib/python3.10/dist-packages (from matplotlib>=3.3.2->torchquantum) (8.4.0)\n",
            "Requirement already satisfied: pyparsing>=2.3.1 in /usr/local/lib/python3.10/dist-packages (from matplotlib>=3.3.2->torchquantum) (3.1.0)\n",
            "Requirement already satisfied: multiprocess>=0.70.12 in /usr/local/lib/python3.10/dist-packages (from pathos>=0.2.7->torchquantum) (0.70.12.2)\n",
            "Requirement already satisfied: pox>=0.3.0 in /usr/local/lib/python3.10/dist-packages (from pathos>=0.2.7->torchquantum) (0.3.3)\n",
            "Requirement already satisfied: ppft>=1.6.6.4 in /usr/local/lib/python3.10/dist-packages (from pathos>=0.2.7->torchquantum) (1.7.6.7)\n",
            "Requirement already satisfied: filelock in /usr/local/lib/python3.10/dist-packages (from torch>=1.8.0->torchquantum) (3.12.2)\n",
            "Requirement already satisfied: typing-extensions in /usr/local/lib/python3.10/dist-packages (from torch>=1.8.0->torchquantum) (4.7.1)\n",
            "Requirement already satisfied: networkx in /usr/local/lib/python3.10/dist-packages (from torch>=1.8.0->torchquantum) (3.1)\n",
            "Requirement already satisfied: jinja2 in /usr/local/lib/python3.10/dist-packages (from torch>=1.8.0->torchquantum) (3.1.2)\n",
            "Requirement already satisfied: triton==2.0.0 in /usr/local/lib/python3.10/dist-packages (from torch>=1.8.0->torchquantum) (2.0.0)\n",
            "Requirement already satisfied: cmake in /usr/local/lib/python3.10/dist-packages (from triton==2.0.0->torch>=1.8.0->torchquantum) (3.25.2)\n",
            "Requirement already satisfied: lit in /usr/local/lib/python3.10/dist-packages (from triton==2.0.0->torch>=1.8.0->torchquantum) (16.0.6)\n",
            "Requirement already satisfied: h5py in /usr/local/lib/python3.10/dist-packages (from torchpack>=0.3.0->torchquantum) (3.8.0)\n",
            "Requirement already satisfied: loguru in /usr/local/lib/python3.10/dist-packages (from torchpack>=0.3.0->torchquantum) (0.7.0)\n",
            "Requirement already satisfied: multimethod in /usr/local/lib/python3.10/dist-packages (from torchpack>=0.3.0->torchquantum) (1.9.1)\n",
            "Requirement already satisfied: pyyaml in /usr/local/lib/python3.10/dist-packages (from torchpack>=0.3.0->torchquantum) (6.0.1)\n",
            "Requirement already satisfied: tensorboard in /usr/local/lib/python3.10/dist-packages (from torchpack>=0.3.0->torchquantum) (2.12.3)\n",
            "Requirement already satisfied: tensorpack in /usr/local/lib/python3.10/dist-packages (from torchpack>=0.3.0->torchquantum) (0.11)\n",
            "Requirement already satisfied: toml in /usr/local/lib/python3.10/dist-packages (from torchpack>=0.3.0->torchquantum) (0.10.2)\n",
            "Requirement already satisfied: six>=1.5 in /usr/local/lib/python3.10/dist-packages (from python-dateutil>=2.8.0->qiskit-ibmq-provider==0.19.2->qiskit==0.38.0->torchquantum) (1.16.0)\n",
            "Requirement already satisfied: certifi>=2017.4.17 in /usr/local/lib/python3.10/dist-packages (from requests>=2.19->qiskit-ibmq-provider==0.19.2->qiskit==0.38.0->torchquantum) (2023.5.7)\n",
            "Requirement already satisfied: charset-normalizer~=2.0.0 in /usr/local/lib/python3.10/dist-packages (from requests>=2.19->qiskit-ibmq-provider==0.19.2->qiskit==0.38.0->torchquantum) (2.0.12)\n",
            "Requirement already satisfied: idna<4,>=2.5 in /usr/local/lib/python3.10/dist-packages (from requests>=2.19->qiskit-ibmq-provider==0.19.2->qiskit==0.38.0->torchquantum) (3.4)\n",
            "Requirement already satisfied: mpmath>=0.19 in /usr/local/lib/python3.10/dist-packages (from sympy>=1.3->qiskit-terra==0.21.2->qiskit==0.38.0->torchquantum) (1.3.0)\n",
            "Requirement already satisfied: MarkupSafe>=2.0 in /usr/local/lib/python3.10/dist-packages (from jinja2->torch>=1.8.0->torchquantum) (2.1.3)\n",
            "Requirement already satisfied: absl-py>=0.4 in /usr/local/lib/python3.10/dist-packages (from tensorboard->torchpack>=0.3.0->torchquantum) (1.4.0)\n",
            "Requirement already satisfied: grpcio>=1.48.2 in /usr/local/lib/python3.10/dist-packages (from tensorboard->torchpack>=0.3.0->torchquantum) (1.56.0)\n",
            "Requirement already satisfied: google-auth<3,>=1.6.3 in /usr/local/lib/python3.10/dist-packages (from tensorboard->torchpack>=0.3.0->torchquantum) (2.17.3)\n",
            "Requirement already satisfied: google-auth-oauthlib<1.1,>=0.5 in /usr/local/lib/python3.10/dist-packages (from tensorboard->torchpack>=0.3.0->torchquantum) (1.0.0)\n",
            "Requirement already satisfied: markdown>=2.6.8 in /usr/local/lib/python3.10/dist-packages (from tensorboard->torchpack>=0.3.0->torchquantum) (3.4.3)\n",
            "Requirement already satisfied: protobuf>=3.19.6 in /usr/local/lib/python3.10/dist-packages (from tensorboard->torchpack>=0.3.0->torchquantum) (3.20.3)\n",
            "Requirement already satisfied: tensorboard-data-server<0.8.0,>=0.7.0 in /usr/local/lib/python3.10/dist-packages (from tensorboard->torchpack>=0.3.0->torchquantum) (0.7.1)\n",
            "Requirement already satisfied: werkzeug>=1.0.1 in /usr/local/lib/python3.10/dist-packages (from tensorboard->torchpack>=0.3.0->torchquantum) (2.3.6)\n",
            "Requirement already satisfied: wheel>=0.26 in /usr/local/lib/python3.10/dist-packages (from tensorboard->torchpack>=0.3.0->torchquantum) (0.40.0)\n",
            "Requirement already satisfied: termcolor>=1.1 in /usr/local/lib/python3.10/dist-packages (from tensorpack->torchpack>=0.3.0->torchquantum) (2.3.0)\n",
            "Requirement already satisfied: tabulate>=0.7.7 in /usr/local/lib/python3.10/dist-packages (from tensorpack->torchpack>=0.3.0->torchquantum) (0.9.0)\n",
            "Requirement already satisfied: msgpack>=0.5.2 in /usr/local/lib/python3.10/dist-packages (from tensorpack->torchpack>=0.3.0->torchquantum) (1.0.5)\n",
            "Requirement already satisfied: msgpack-numpy>=0.4.4.2 in /usr/local/lib/python3.10/dist-packages (from tensorpack->torchpack>=0.3.0->torchquantum) (0.4.8)\n",
            "Requirement already satisfied: pyzmq>=16 in /usr/local/lib/python3.10/dist-packages (from tensorpack->torchpack>=0.3.0->torchquantum) (23.2.1)\n",
            "Requirement already satisfied: cachetools<6.0,>=2.0.0 in /usr/local/lib/python3.10/dist-packages (from google-auth<3,>=1.6.3->tensorboard->torchpack>=0.3.0->torchquantum) (5.3.1)\n",
            "Requirement already satisfied: pyasn1-modules>=0.2.1 in /usr/local/lib/python3.10/dist-packages (from google-auth<3,>=1.6.3->tensorboard->torchpack>=0.3.0->torchquantum) (0.3.0)\n",
            "Requirement already satisfied: rsa<5,>=3.1.4 in /usr/local/lib/python3.10/dist-packages (from google-auth<3,>=1.6.3->tensorboard->torchpack>=0.3.0->torchquantum) (4.9)\n",
            "Requirement already satisfied: requests-oauthlib>=0.7.0 in /usr/local/lib/python3.10/dist-packages (from google-auth-oauthlib<1.1,>=0.5->tensorboard->torchpack>=0.3.0->torchquantum) (1.3.1)\n",
            "Requirement already satisfied: cryptography>=1.3 in /usr/lib/python3/dist-packages (from requests-ntlm>=1.1.0->qiskit-ibmq-provider==0.19.2->qiskit==0.38.0->torchquantum) (3.4.8)\n",
            "Requirement already satisfied: pyspnego>=0.1.6 in /usr/local/lib/python3.10/dist-packages (from requests-ntlm>=1.1.0->qiskit-ibmq-provider==0.19.2->qiskit==0.38.0->torchquantum) (0.9.1)\n",
            "Requirement already satisfied: rustworkx==0.13.0 in /usr/local/lib/python3.10/dist-packages (from retworkx>=0.11.0->qiskit-terra==0.21.2->qiskit==0.38.0->torchquantum) (0.13.0)\n",
            "Requirement already satisfied: pbr!=2.1.0,>=2.0.0 in /usr/local/lib/python3.10/dist-packages (from stevedore>=3.0.0->qiskit-terra==0.21.2->qiskit==0.38.0->torchquantum) (5.11.1)\n",
            "Requirement already satisfied: pyasn1<0.6.0,>=0.4.6 in /usr/local/lib/python3.10/dist-packages (from pyasn1-modules>=0.2.1->google-auth<3,>=1.6.3->tensorboard->torchpack>=0.3.0->torchquantum) (0.5.0)\n",
            "Requirement already satisfied: oauthlib>=3.0.0 in /usr/local/lib/python3.10/dist-packages (from requests-oauthlib>=0.7.0->google-auth-oauthlib<1.1,>=0.5->tensorboard->torchpack>=0.3.0->torchquantum) (3.2.2)\n"
          ]
        }
      ],
      "source": [
        "!pip install torchquantum"
      ]
    },
    {
      "cell_type": "code",
      "execution_count": null,
      "metadata": {
        "id": "idka7bacV2HI"
      },
      "outputs": [],
      "source": [
        "import numpy as np\n",
        "import torch\n",
        "import torchquantum as tq\n",
        "\n",
        "from sklearn.svm import SVC\n",
        "from sklearn.datasets import load_iris\n",
        "from sklearn.preprocessing import StandardScaler\n",
        "from sklearn.model_selection import train_test_split\n",
        "from sklearn.metrics import accuracy_score\n",
        "from torchquantum.functional import func_name_dict\n",
        "\n",
        "import os\n",
        "import random\n",
        "\n",
        "import numpy as np\n",
        "import pandas as pd\n",
        "\n",
        "from skimage import io\n",
        "\n",
        "from sklearn.model_selection import train_test_split\n",
        "from sklearn.linear_model import Perceptron\n",
        "from sklearn.metrics import accuracy_score\n",
        "\n",
        "import matplotlib.pyplot as plt\n",
        "import seaborn as sns"
      ]
    },
    {
      "cell_type": "code",
      "execution_count": null,
      "metadata": {
        "colab": {
          "base_uri": "https://localhost:8080/"
        },
        "id": "Z6ysK03qV9iB",
        "outputId": "50207a82-d071-47b6-9ab1-08a325a10bea"
      },
      "outputs": [
        {
          "output_type": "stream",
          "name": "stderr",
          "text": [
            "[nltk_data] Downloading package wordnet to /root/nltk_data...\n",
            "[nltk_data]   Package wordnet is already up-to-date!\n",
            "[nltk_data] Downloading package punkt to /root/nltk_data...\n",
            "[nltk_data]   Package punkt is already up-to-date!\n",
            "[nltk_data] Downloading package stopwords to /root/nltk_data...\n",
            "[nltk_data]   Package stopwords is already up-to-date!\n"
          ]
        }
      ],
      "source": [
        "import nltk\n",
        "import re\n",
        "from nltk.corpus import stopwords\n",
        "from nltk.stem import WordNetLemmatizer\n",
        "nltk.download('wordnet')\n",
        "nltk.download('punkt')\n",
        "nltk.download('stopwords')\n",
        "from nltk.tokenize import word_tokenize"
      ]
    },
    {
      "cell_type": "code",
      "execution_count": null,
      "metadata": {
        "colab": {
          "base_uri": "https://localhost:8080/",
          "height": 423
        },
        "id": "ptR2nRq2V_Cq",
        "outputId": "11e71143-47f7-4ad7-bcf7-c1b17f737712"
      },
      "outputs": [
        {
          "output_type": "execute_result",
          "data": {
            "text/plain": [
              "     Label                                             Speech  word_counts\n",
              "0        1  \" Keeks is a bitch she curves everyone \" lol I...           18\n",
              "1        1                 \" Murda Gang bitch its Gang Land \"            8\n",
              "2        1  \" So hoes that smoke are losers ? \" yea ... go...           14\n",
              "3        1      \" bad bitches is the only thing that i like \"           11\n",
              "4        1                            \" bitch get up off me \"            7\n",
              "..     ...                                                ...          ...\n",
              "109      0  I'm so proud of my fellow activists who are fi...           19\n",
              "110      0  Thanks to all the creators who are sharing the...           21\n",
              "111      0  I'm grateful for the diversity of voices and p...           19\n",
              "112      0  Sending virtual hugs to anyone who needs one t...           14\n",
              "113      0  Let's all do something kind for someone else t...           30\n",
              "\n",
              "[114 rows x 3 columns]"
            ],
            "text/html": [
              "\n",
              "\n",
              "  <div id=\"df-59cac218-4404-4963-a76e-45c5be82fffa\">\n",
              "    <div class=\"colab-df-container\">\n",
              "      <div>\n",
              "<style scoped>\n",
              "    .dataframe tbody tr th:only-of-type {\n",
              "        vertical-align: middle;\n",
              "    }\n",
              "\n",
              "    .dataframe tbody tr th {\n",
              "        vertical-align: top;\n",
              "    }\n",
              "\n",
              "    .dataframe thead th {\n",
              "        text-align: right;\n",
              "    }\n",
              "</style>\n",
              "<table border=\"1\" class=\"dataframe\">\n",
              "  <thead>\n",
              "    <tr style=\"text-align: right;\">\n",
              "      <th></th>\n",
              "      <th>Label</th>\n",
              "      <th>Speech</th>\n",
              "      <th>word_counts</th>\n",
              "    </tr>\n",
              "  </thead>\n",
              "  <tbody>\n",
              "    <tr>\n",
              "      <th>0</th>\n",
              "      <td>1</td>\n",
              "      <td>\" Keeks is a bitch she curves everyone \" lol I...</td>\n",
              "      <td>18</td>\n",
              "    </tr>\n",
              "    <tr>\n",
              "      <th>1</th>\n",
              "      <td>1</td>\n",
              "      <td>\" Murda Gang bitch its Gang Land \"</td>\n",
              "      <td>8</td>\n",
              "    </tr>\n",
              "    <tr>\n",
              "      <th>2</th>\n",
              "      <td>1</td>\n",
              "      <td>\" So hoes that smoke are losers ? \" yea ... go...</td>\n",
              "      <td>14</td>\n",
              "    </tr>\n",
              "    <tr>\n",
              "      <th>3</th>\n",
              "      <td>1</td>\n",
              "      <td>\" bad bitches is the only thing that i like \"</td>\n",
              "      <td>11</td>\n",
              "    </tr>\n",
              "    <tr>\n",
              "      <th>4</th>\n",
              "      <td>1</td>\n",
              "      <td>\" bitch get up off me \"</td>\n",
              "      <td>7</td>\n",
              "    </tr>\n",
              "    <tr>\n",
              "      <th>...</th>\n",
              "      <td>...</td>\n",
              "      <td>...</td>\n",
              "      <td>...</td>\n",
              "    </tr>\n",
              "    <tr>\n",
              "      <th>109</th>\n",
              "      <td>0</td>\n",
              "      <td>I'm so proud of my fellow activists who are fi...</td>\n",
              "      <td>19</td>\n",
              "    </tr>\n",
              "    <tr>\n",
              "      <th>110</th>\n",
              "      <td>0</td>\n",
              "      <td>Thanks to all the creators who are sharing the...</td>\n",
              "      <td>21</td>\n",
              "    </tr>\n",
              "    <tr>\n",
              "      <th>111</th>\n",
              "      <td>0</td>\n",
              "      <td>I'm grateful for the diversity of voices and p...</td>\n",
              "      <td>19</td>\n",
              "    </tr>\n",
              "    <tr>\n",
              "      <th>112</th>\n",
              "      <td>0</td>\n",
              "      <td>Sending virtual hugs to anyone who needs one t...</td>\n",
              "      <td>14</td>\n",
              "    </tr>\n",
              "    <tr>\n",
              "      <th>113</th>\n",
              "      <td>0</td>\n",
              "      <td>Let's all do something kind for someone else t...</td>\n",
              "      <td>30</td>\n",
              "    </tr>\n",
              "  </tbody>\n",
              "</table>\n",
              "<p>114 rows × 3 columns</p>\n",
              "</div>\n",
              "      <button class=\"colab-df-convert\" onclick=\"convertToInteractive('df-59cac218-4404-4963-a76e-45c5be82fffa')\"\n",
              "              title=\"Convert this dataframe to an interactive table.\"\n",
              "              style=\"display:none;\">\n",
              "\n",
              "  <svg xmlns=\"http://www.w3.org/2000/svg\" height=\"24px\"viewBox=\"0 0 24 24\"\n",
              "       width=\"24px\">\n",
              "    <path d=\"M0 0h24v24H0V0z\" fill=\"none\"/>\n",
              "    <path d=\"M18.56 5.44l.94 2.06.94-2.06 2.06-.94-2.06-.94-.94-2.06-.94 2.06-2.06.94zm-11 1L8.5 8.5l.94-2.06 2.06-.94-2.06-.94L8.5 2.5l-.94 2.06-2.06.94zm10 10l.94 2.06.94-2.06 2.06-.94-2.06-.94-.94-2.06-.94 2.06-2.06.94z\"/><path d=\"M17.41 7.96l-1.37-1.37c-.4-.4-.92-.59-1.43-.59-.52 0-1.04.2-1.43.59L10.3 9.45l-7.72 7.72c-.78.78-.78 2.05 0 2.83L4 21.41c.39.39.9.59 1.41.59.51 0 1.02-.2 1.41-.59l7.78-7.78 2.81-2.81c.8-.78.8-2.07 0-2.86zM5.41 20L4 18.59l7.72-7.72 1.47 1.35L5.41 20z\"/>\n",
              "  </svg>\n",
              "      </button>\n",
              "\n",
              "\n",
              "\n",
              "    <div id=\"df-cd38d6e2-b4cd-4451-8842-eaaea0986a15\">\n",
              "      <button class=\"colab-df-quickchart\" onclick=\"quickchart('df-cd38d6e2-b4cd-4451-8842-eaaea0986a15')\"\n",
              "              title=\"Suggest charts.\"\n",
              "              style=\"display:none;\">\n",
              "\n",
              "<svg xmlns=\"http://www.w3.org/2000/svg\" height=\"24px\"viewBox=\"0 0 24 24\"\n",
              "     width=\"24px\">\n",
              "    <g>\n",
              "        <path d=\"M19 3H5c-1.1 0-2 .9-2 2v14c0 1.1.9 2 2 2h14c1.1 0 2-.9 2-2V5c0-1.1-.9-2-2-2zM9 17H7v-7h2v7zm4 0h-2V7h2v10zm4 0h-2v-4h2v4z\"/>\n",
              "    </g>\n",
              "</svg>\n",
              "      </button>\n",
              "    </div>\n",
              "\n",
              "<style>\n",
              "  .colab-df-quickchart {\n",
              "    background-color: #E8F0FE;\n",
              "    border: none;\n",
              "    border-radius: 50%;\n",
              "    cursor: pointer;\n",
              "    display: none;\n",
              "    fill: #1967D2;\n",
              "    height: 32px;\n",
              "    padding: 0 0 0 0;\n",
              "    width: 32px;\n",
              "  }\n",
              "\n",
              "  .colab-df-quickchart:hover {\n",
              "    background-color: #E2EBFA;\n",
              "    box-shadow: 0px 1px 2px rgba(60, 64, 67, 0.3), 0px 1px 3px 1px rgba(60, 64, 67, 0.15);\n",
              "    fill: #174EA6;\n",
              "  }\n",
              "\n",
              "  [theme=dark] .colab-df-quickchart {\n",
              "    background-color: #3B4455;\n",
              "    fill: #D2E3FC;\n",
              "  }\n",
              "\n",
              "  [theme=dark] .colab-df-quickchart:hover {\n",
              "    background-color: #434B5C;\n",
              "    box-shadow: 0px 1px 3px 1px rgba(0, 0, 0, 0.15);\n",
              "    filter: drop-shadow(0px 1px 2px rgba(0, 0, 0, 0.3));\n",
              "    fill: #FFFFFF;\n",
              "  }\n",
              "</style>\n",
              "\n",
              "    <script>\n",
              "      async function quickchart(key) {\n",
              "        const containerElement = document.querySelector('#' + key);\n",
              "        const charts = await google.colab.kernel.invokeFunction(\n",
              "            'suggestCharts', [key], {});\n",
              "      }\n",
              "    </script>\n",
              "\n",
              "      <script>\n",
              "\n",
              "function displayQuickchartButton(domScope) {\n",
              "  let quickchartButtonEl =\n",
              "    domScope.querySelector('#df-cd38d6e2-b4cd-4451-8842-eaaea0986a15 button.colab-df-quickchart');\n",
              "  quickchartButtonEl.style.display =\n",
              "    google.colab.kernel.accessAllowed ? 'block' : 'none';\n",
              "}\n",
              "\n",
              "        displayQuickchartButton(document);\n",
              "      </script>\n",
              "      <style>\n",
              "    .colab-df-container {\n",
              "      display:flex;\n",
              "      flex-wrap:wrap;\n",
              "      gap: 12px;\n",
              "    }\n",
              "\n",
              "    .colab-df-convert {\n",
              "      background-color: #E8F0FE;\n",
              "      border: none;\n",
              "      border-radius: 50%;\n",
              "      cursor: pointer;\n",
              "      display: none;\n",
              "      fill: #1967D2;\n",
              "      height: 32px;\n",
              "      padding: 0 0 0 0;\n",
              "      width: 32px;\n",
              "    }\n",
              "\n",
              "    .colab-df-convert:hover {\n",
              "      background-color: #E2EBFA;\n",
              "      box-shadow: 0px 1px 2px rgba(60, 64, 67, 0.3), 0px 1px 3px 1px rgba(60, 64, 67, 0.15);\n",
              "      fill: #174EA6;\n",
              "    }\n",
              "\n",
              "    [theme=dark] .colab-df-convert {\n",
              "      background-color: #3B4455;\n",
              "      fill: #D2E3FC;\n",
              "    }\n",
              "\n",
              "    [theme=dark] .colab-df-convert:hover {\n",
              "      background-color: #434B5C;\n",
              "      box-shadow: 0px 1px 3px 1px rgba(0, 0, 0, 0.15);\n",
              "      filter: drop-shadow(0px 1px 2px rgba(0, 0, 0, 0.3));\n",
              "      fill: #FFFFFF;\n",
              "    }\n",
              "  </style>\n",
              "\n",
              "      <script>\n",
              "        const buttonEl =\n",
              "          document.querySelector('#df-59cac218-4404-4963-a76e-45c5be82fffa button.colab-df-convert');\n",
              "        buttonEl.style.display =\n",
              "          google.colab.kernel.accessAllowed ? 'block' : 'none';\n",
              "\n",
              "        async function convertToInteractive(key) {\n",
              "          const element = document.querySelector('#df-59cac218-4404-4963-a76e-45c5be82fffa');\n",
              "          const dataTable =\n",
              "            await google.colab.kernel.invokeFunction('convertToInteractive',\n",
              "                                                     [key], {});\n",
              "          if (!dataTable) return;\n",
              "\n",
              "          const docLinkHtml = 'Like what you see? Visit the ' +\n",
              "            '<a target=\"_blank\" href=https://colab.research.google.com/notebooks/data_table.ipynb>data table notebook</a>'\n",
              "            + ' to learn more about interactive tables.';\n",
              "          element.innerHTML = '';\n",
              "          dataTable['output_type'] = 'display_data';\n",
              "          await google.colab.output.renderOutput(dataTable, element);\n",
              "          const docLink = document.createElement('div');\n",
              "          docLink.innerHTML = docLinkHtml;\n",
              "          element.appendChild(docLink);\n",
              "        }\n",
              "      </script>\n",
              "    </div>\n",
              "  </div>\n"
            ]
          },
          "metadata": {},
          "execution_count": 76
        }
      ],
      "source": [
        "dataframe = pd.read_csv('twitter_dataset.csv')\n",
        "df = dataframe.copy()\n",
        "df\n",
        "\n",
        "# Lets find out how many words are present in a single Speech!\n",
        "df['word_counts'] = df['Speech'].apply(lambda x: len(x.split()))\n",
        "df"
      ]
    },
    {
      "cell_type": "code",
      "execution_count": null,
      "metadata": {
        "id": "EvEG3VgiWWQx"
      },
      "outputs": [],
      "source": [
        "def clean_text(df):\n",
        "    all_comments = list()\n",
        "    lines = df.Speech.values.tolist()\n",
        "    for text in lines:\n",
        "\n",
        "        pattern = re.compile('http[s]?://(?:[a-zA-Z]|[0-9]|[$-_@.&+]|[!*\\(\\),]|(?:%[0-9a-fA-F][0-9a-fA-F]))+')\n",
        "        text = pattern.sub('', text)\n",
        "        # removing #mentions\n",
        "        text = re.sub(r\"@+\",\"\", text)\n",
        "\n",
        "        text = re.sub(r\"[!\\\"#$%&'()*+,-./:;<=>?@[\\]^_`{|}~।ঃ\\t\\n]\", \"\", text) # removing punctuations\n",
        "        tokens = word_tokenize(text)\n",
        "\n",
        "        stop_words = set(stopwords.words(\"english\"))\n",
        "        words = [w for w in tokens if not w in stop_words] # removing stop words\n",
        "\n",
        "        words = ' '.join(words)\n",
        "        all_comments.append(words)\n",
        "\n",
        "    return all_comments\n",
        "\n",
        "all_comments = clean_text(df)\n",
        "\n",
        "df['process_speech'] = all_comments"
      ]
    },
    {
      "cell_type": "code",
      "execution_count": null,
      "metadata": {
        "colab": {
          "base_uri": "https://localhost:8080/"
        },
        "id": "sHsjraayWcGW",
        "outputId": "16ed97f5-d6cd-4745-dde9-a314c9444f4b"
      },
      "outputs": [
        {
          "output_type": "stream",
          "name": "stdout",
          "text": [
            "[[0.         0.         0.         ... 0.         0.         0.        ]\n",
            " [0.         0.         0.         ... 0.         0.         0.        ]\n",
            " [0.         0.72102491 0.         ... 0.         0.         0.        ]\n",
            " ...\n",
            " [0.         0.         0.         ... 0.         0.         0.        ]\n",
            " [0.         0.         0.         ... 0.         0.         0.8692389 ]\n",
            " [0.         0.         0.         ... 0.         0.         0.        ]]\n",
            "[1 1 1 1 1 1 1 0 0 1 1 1 1 1 0 1 1 0 1 1 1 1 1 0 1 1 0 0 1 1 1 1 1 1 1 1 0\n",
            " 1 1 1 1 1 1 1 1 1 0 1 1 1 1 1 1 1 1 1 1 1 1 0 1 0 1 1 0 0 1 1 0 1 1 1 1 0\n",
            " 1 1 0 0 1 1]\n"
          ]
        }
      ],
      "source": [
        "df.isnull().sum()\n",
        "\n",
        "X = df.process_speech\n",
        "Y = df.Label.values\n",
        "\n",
        "## TFidf Vectorizer\n",
        "from sklearn.feature_extraction.text import TfidfVectorizer\n",
        "\n",
        "tfidf_v = TfidfVectorizer(min_df=5, ngram_range=(1,2))\n",
        "X = tfidf_v.fit_transform(X).toarray()\n",
        "\n",
        "validation_split = 0.3\n",
        "\n",
        "indices = np.arange(X.shape[0])\n",
        "np.random.shuffle(indices)\n",
        "X = X[indices]\n",
        "Y = Y[indices]\n",
        "\n",
        "# 0.3 * 300 = 90\n",
        "num_validation_samples = int(validation_split * X.shape[0])\n",
        "\n",
        "\n",
        "X_train = X[:-num_validation_samples]\n",
        "y_train = Y[:-num_validation_samples]\n",
        "X_test = X[-num_validation_samples:]\n",
        "y_test = Y[-num_validation_samples:]\n",
        "\n",
        "print(X_train)\n",
        "print(y_train)"
      ]
    },
    {
      "cell_type": "markdown",
      "metadata": {
        "id": "FyYEJxq3S05i"
      },
      "source": [
        "#QSVM\n"
      ]
    },
    {
      "cell_type": "code",
      "execution_count": null,
      "metadata": {
        "colab": {
          "base_uri": "https://localhost:8080/"
        },
        "id": "Z5NKRF83Sqvy",
        "outputId": "3f946785-a79e-4011-f411-bd3984fd494b"
      },
      "outputs": [
        {
          "output_type": "stream",
          "name": "stdout",
          "text": [
            "Requirement already satisfied: Pennylane in /usr/local/lib/python3.10/dist-packages (0.31.0)\n",
            "Requirement already satisfied: numpy<1.24 in /usr/local/lib/python3.10/dist-packages (from Pennylane) (1.22.4)\n",
            "Requirement already satisfied: scipy<=1.10 in /usr/local/lib/python3.10/dist-packages (from Pennylane) (1.10.0)\n",
            "Requirement already satisfied: networkx in /usr/local/lib/python3.10/dist-packages (from Pennylane) (3.1)\n",
            "Requirement already satisfied: rustworkx in /usr/local/lib/python3.10/dist-packages (from Pennylane) (0.13.0)\n",
            "Requirement already satisfied: autograd<=1.5 in /usr/local/lib/python3.10/dist-packages (from Pennylane) (1.5)\n",
            "Requirement already satisfied: toml in /usr/local/lib/python3.10/dist-packages (from Pennylane) (0.10.2)\n",
            "Requirement already satisfied: appdirs in /usr/local/lib/python3.10/dist-packages (from Pennylane) (1.4.4)\n",
            "Requirement already satisfied: semantic-version>=2.7 in /usr/local/lib/python3.10/dist-packages (from Pennylane) (2.10.0)\n",
            "Requirement already satisfied: autoray>=0.3.1 in /usr/local/lib/python3.10/dist-packages (from Pennylane) (0.6.5)\n",
            "Requirement already satisfied: cachetools in /usr/local/lib/python3.10/dist-packages (from Pennylane) (5.3.1)\n",
            "Requirement already satisfied: pennylane-lightning>=0.31 in /usr/local/lib/python3.10/dist-packages (from Pennylane) (0.31.0)\n",
            "Requirement already satisfied: requests in /usr/local/lib/python3.10/dist-packages (from Pennylane) (2.27.1)\n",
            "Requirement already satisfied: future>=0.15.2 in /usr/local/lib/python3.10/dist-packages (from autograd<=1.5->Pennylane) (0.18.3)\n",
            "Requirement already satisfied: urllib3<1.27,>=1.21.1 in /usr/local/lib/python3.10/dist-packages (from requests->Pennylane) (1.26.16)\n",
            "Requirement already satisfied: certifi>=2017.4.17 in /usr/local/lib/python3.10/dist-packages (from requests->Pennylane) (2023.5.7)\n",
            "Requirement already satisfied: charset-normalizer~=2.0.0 in /usr/local/lib/python3.10/dist-packages (from requests->Pennylane) (2.0.12)\n",
            "Requirement already satisfied: idna<4,>=2.5 in /usr/local/lib/python3.10/dist-packages (from requests->Pennylane) (3.4)\n"
          ]
        }
      ],
      "source": [
        "# pip install version_check\n",
        "!pip install Pennylane"
      ]
    },
    {
      "cell_type": "code",
      "execution_count": null,
      "metadata": {
        "id": "OZOoWCaxS8-l"
      },
      "outputs": [],
      "source": [
        "import tensorflow as tf\n",
        "from keras.layers import Dense\n",
        "from keras.models import Sequential\n",
        "\n",
        "from imblearn.over_sampling import SMOTE\n",
        "\n",
        "import pandas as pd\n",
        "import pennylane as qml\n",
        "import numpy as np\n",
        "from sklearn.model_selection import train_test_split # data split\n",
        "from sklearn.metrics import accuracy_score, classification_report, confusion_matrix\n",
        "\n",
        "import matplotlib.pyplot as plt\n"
      ]
    },
    {
      "cell_type": "code",
      "execution_count": null,
      "metadata": {
        "colab": {
          "base_uri": "https://localhost:8080/"
        },
        "id": "uURXW7aKS_Pf",
        "outputId": "cc5dede1-b793-4601-e3a9-2433c1055197"
      },
      "outputs": [
        {
          "output_type": "stream",
          "name": "stdout",
          "text": [
            "Quantum layer created\n",
            "Quantum and classical layers added\n"
          ]
        },
        {
          "output_type": "stream",
          "name": "stderr",
          "text": [
            "WARNING:tensorflow:You are casting an input of type complex128 to an incompatible dtype float64.  This will discard the imaginary part and may not be what you intended.\n",
            "WARNING:tensorflow:You are casting an input of type complex128 to an incompatible dtype float64.  This will discard the imaginary part and may not be what you intended.\n",
            "WARNING:tensorflow:You are casting an input of type complex128 to an incompatible dtype float64.  This will discard the imaginary part and may not be what you intended.\n",
            "WARNING:tensorflow:You are casting an input of type complex128 to an incompatible dtype float64.  This will discard the imaginary part and may not be what you intended.\n",
            "WARNING:tensorflow:You are casting an input of type complex128 to an incompatible dtype float64.  This will discard the imaginary part and may not be what you intended.\n",
            "WARNING:tensorflow:You are casting an input of type complex128 to an incompatible dtype float64.  This will discard the imaginary part and may not be what you intended.\n",
            "WARNING:tensorflow:You are casting an input of type complex128 to an incompatible dtype float64.  This will discard the imaginary part and may not be what you intended.\n",
            "WARNING:tensorflow:You are casting an input of type complex128 to an incompatible dtype float64.  This will discard the imaginary part and may not be what you intended.\n",
            "WARNING:tensorflow:You are casting an input of type complex128 to an incompatible dtype float64.  This will discard the imaginary part and may not be what you intended.\n",
            "WARNING:tensorflow:You are casting an input of type complex128 to an incompatible dtype float64.  This will discard the imaginary part and may not be what you intended.\n",
            "WARNING:tensorflow:You are casting an input of type complex128 to an incompatible dtype float64.  This will discard the imaginary part and may not be what you intended.\n",
            "WARNING:tensorflow:You are casting an input of type complex128 to an incompatible dtype float64.  This will discard the imaginary part and may not be what you intended.\n",
            "WARNING:tensorflow:You are casting an input of type complex128 to an incompatible dtype float64.  This will discard the imaginary part and may not be what you intended.\n",
            "WARNING:tensorflow:You are casting an input of type complex128 to an incompatible dtype float64.  This will discard the imaginary part and may not be what you intended.\n",
            "WARNING:tensorflow:You are casting an input of type complex128 to an incompatible dtype float64.  This will discard the imaginary part and may not be what you intended.\n",
            "WARNING:tensorflow:You are casting an input of type complex128 to an incompatible dtype float64.  This will discard the imaginary part and may not be what you intended.\n",
            "WARNING:tensorflow:You are casting an input of type complex128 to an incompatible dtype float64.  This will discard the imaginary part and may not be what you intended.\n",
            "WARNING:tensorflow:You are casting an input of type complex128 to an incompatible dtype float64.  This will discard the imaginary part and may not be what you intended.\n",
            "WARNING:tensorflow:You are casting an input of type complex128 to an incompatible dtype float64.  This will discard the imaginary part and may not be what you intended.\n",
            "WARNING:tensorflow:You are casting an input of type complex128 to an incompatible dtype float64.  This will discard the imaginary part and may not be what you intended.\n",
            "WARNING:tensorflow:You are casting an input of type complex128 to an incompatible dtype float64.  This will discard the imaginary part and may not be what you intended.\n",
            "WARNING:tensorflow:You are casting an input of type complex128 to an incompatible dtype float64.  This will discard the imaginary part and may not be what you intended.\n",
            "WARNING:tensorflow:You are casting an input of type complex128 to an incompatible dtype float64.  This will discard the imaginary part and may not be what you intended.\n",
            "WARNING:tensorflow:You are casting an input of type complex128 to an incompatible dtype float64.  This will discard the imaginary part and may not be what you intended.\n",
            "WARNING:tensorflow:You are casting an input of type complex128 to an incompatible dtype float64.  This will discard the imaginary part and may not be what you intended.\n",
            "WARNING:tensorflow:You are casting an input of type complex128 to an incompatible dtype float64.  This will discard the imaginary part and may not be what you intended.\n",
            "WARNING:tensorflow:You are casting an input of type complex128 to an incompatible dtype float64.  This will discard the imaginary part and may not be what you intended.\n",
            "WARNING:tensorflow:You are casting an input of type complex128 to an incompatible dtype float64.  This will discard the imaginary part and may not be what you intended.\n"
          ]
        },
        {
          "output_type": "stream",
          "name": "stdout",
          "text": [
            "\r1/3 [=========>....................] - ETA: 1s - loss: 0.4160 - accuracy: 0.8125"
          ]
        },
        {
          "output_type": "stream",
          "name": "stderr",
          "text": [
            "WARNING:tensorflow:You are casting an input of type complex128 to an incompatible dtype float64.  This will discard the imaginary part and may not be what you intended.\n",
            "WARNING:tensorflow:You are casting an input of type complex128 to an incompatible dtype float64.  This will discard the imaginary part and may not be what you intended.\n",
            "WARNING:tensorflow:You are casting an input of type complex128 to an incompatible dtype float64.  This will discard the imaginary part and may not be what you intended.\n",
            "WARNING:tensorflow:You are casting an input of type complex128 to an incompatible dtype float64.  This will discard the imaginary part and may not be what you intended.\n",
            "WARNING:tensorflow:You are casting an input of type complex128 to an incompatible dtype float64.  This will discard the imaginary part and may not be what you intended.\n",
            "WARNING:tensorflow:You are casting an input of type complex128 to an incompatible dtype float64.  This will discard the imaginary part and may not be what you intended.\n",
            "WARNING:tensorflow:You are casting an input of type complex128 to an incompatible dtype float64.  This will discard the imaginary part and may not be what you intended.\n",
            "WARNING:tensorflow:You are casting an input of type complex128 to an incompatible dtype float64.  This will discard the imaginary part and may not be what you intended.\n",
            "WARNING:tensorflow:You are casting an input of type complex128 to an incompatible dtype float64.  This will discard the imaginary part and may not be what you intended.\n",
            "WARNING:tensorflow:You are casting an input of type complex128 to an incompatible dtype float64.  This will discard the imaginary part and may not be what you intended.\n",
            "WARNING:tensorflow:You are casting an input of type complex128 to an incompatible dtype float64.  This will discard the imaginary part and may not be what you intended.\n",
            "WARNING:tensorflow:You are casting an input of type complex128 to an incompatible dtype float64.  This will discard the imaginary part and may not be what you intended.\n",
            "WARNING:tensorflow:You are casting an input of type complex128 to an incompatible dtype float64.  This will discard the imaginary part and may not be what you intended.\n",
            "WARNING:tensorflow:You are casting an input of type complex128 to an incompatible dtype float64.  This will discard the imaginary part and may not be what you intended.\n",
            "WARNING:tensorflow:You are casting an input of type complex128 to an incompatible dtype float64.  This will discard the imaginary part and may not be what you intended.\n",
            "WARNING:tensorflow:You are casting an input of type complex128 to an incompatible dtype float64.  This will discard the imaginary part and may not be what you intended.\n",
            "WARNING:tensorflow:You are casting an input of type complex128 to an incompatible dtype float64.  This will discard the imaginary part and may not be what you intended.\n",
            "WARNING:tensorflow:You are casting an input of type complex128 to an incompatible dtype float64.  This will discard the imaginary part and may not be what you intended.\n",
            "WARNING:tensorflow:You are casting an input of type complex128 to an incompatible dtype float64.  This will discard the imaginary part and may not be what you intended.\n",
            "WARNING:tensorflow:You are casting an input of type complex128 to an incompatible dtype float64.  This will discard the imaginary part and may not be what you intended.\n",
            "WARNING:tensorflow:You are casting an input of type complex128 to an incompatible dtype float64.  This will discard the imaginary part and may not be what you intended.\n",
            "WARNING:tensorflow:You are casting an input of type complex128 to an incompatible dtype float64.  This will discard the imaginary part and may not be what you intended.\n",
            "WARNING:tensorflow:You are casting an input of type complex128 to an incompatible dtype float64.  This will discard the imaginary part and may not be what you intended.\n",
            "WARNING:tensorflow:You are casting an input of type complex128 to an incompatible dtype float64.  This will discard the imaginary part and may not be what you intended.\n",
            "WARNING:tensorflow:You are casting an input of type complex128 to an incompatible dtype float64.  This will discard the imaginary part and may not be what you intended.\n",
            "WARNING:tensorflow:You are casting an input of type complex128 to an incompatible dtype float64.  This will discard the imaginary part and may not be what you intended.\n",
            "WARNING:tensorflow:You are casting an input of type complex128 to an incompatible dtype float64.  This will discard the imaginary part and may not be what you intended.\n",
            "WARNING:tensorflow:You are casting an input of type complex128 to an incompatible dtype float64.  This will discard the imaginary part and may not be what you intended.\n"
          ]
        },
        {
          "output_type": "stream",
          "name": "stdout",
          "text": [
            "\b\b\b\b\b\b\b\b\b\b\b\b\b\b\b\b\b\b\b\b\b\b\b\b\b\b\b\b\b\b\b\b\b\b\b\b\b\b\b\b\b\b\b\b\b\b\b\b\b\b\b\b\b\b\b\b\b\b\b\b\b\b\b\b\b\b\b\b\b\b\b\b\b\b\b\b\b\b\b\b\r2/3 [===================>..........] - ETA: 0s - loss: 0.4148 - accuracy: 0.8125"
          ]
        },
        {
          "output_type": "stream",
          "name": "stderr",
          "text": [
            "WARNING:tensorflow:You are casting an input of type complex128 to an incompatible dtype float64.  This will discard the imaginary part and may not be what you intended.\n",
            "WARNING:tensorflow:You are casting an input of type complex128 to an incompatible dtype float64.  This will discard the imaginary part and may not be what you intended.\n",
            "WARNING:tensorflow:You are casting an input of type complex128 to an incompatible dtype float64.  This will discard the imaginary part and may not be what you intended.\n",
            "WARNING:tensorflow:You are casting an input of type complex128 to an incompatible dtype float64.  This will discard the imaginary part and may not be what you intended.\n",
            "WARNING:tensorflow:You are casting an input of type complex128 to an incompatible dtype float64.  This will discard the imaginary part and may not be what you intended.\n",
            "WARNING:tensorflow:You are casting an input of type complex128 to an incompatible dtype float64.  This will discard the imaginary part and may not be what you intended.\n",
            "WARNING:tensorflow:You are casting an input of type complex128 to an incompatible dtype float64.  This will discard the imaginary part and may not be what you intended.\n",
            "WARNING:tensorflow:You are casting an input of type complex128 to an incompatible dtype float64.  This will discard the imaginary part and may not be what you intended.\n",
            "WARNING:tensorflow:You are casting an input of type complex128 to an incompatible dtype float64.  This will discard the imaginary part and may not be what you intended.\n",
            "WARNING:tensorflow:You are casting an input of type complex128 to an incompatible dtype float64.  This will discard the imaginary part and may not be what you intended.\n",
            "WARNING:tensorflow:You are casting an input of type complex128 to an incompatible dtype float64.  This will discard the imaginary part and may not be what you intended.\n",
            "WARNING:tensorflow:You are casting an input of type complex128 to an incompatible dtype float64.  This will discard the imaginary part and may not be what you intended.\n",
            "WARNING:tensorflow:You are casting an input of type complex128 to an incompatible dtype float64.  This will discard the imaginary part and may not be what you intended.\n",
            "WARNING:tensorflow:You are casting an input of type complex128 to an incompatible dtype float64.  This will discard the imaginary part and may not be what you intended.\n",
            "WARNING:tensorflow:You are casting an input of type complex128 to an incompatible dtype float64.  This will discard the imaginary part and may not be what you intended.\n",
            "WARNING:tensorflow:You are casting an input of type complex128 to an incompatible dtype float64.  This will discard the imaginary part and may not be what you intended.\n",
            "WARNING:tensorflow:You are casting an input of type complex128 to an incompatible dtype float64.  This will discard the imaginary part and may not be what you intended.\n",
            "WARNING:tensorflow:You are casting an input of type complex128 to an incompatible dtype float64.  This will discard the imaginary part and may not be what you intended.\n",
            "WARNING:tensorflow:You are casting an input of type complex128 to an incompatible dtype float64.  This will discard the imaginary part and may not be what you intended.\n",
            "WARNING:tensorflow:You are casting an input of type complex128 to an incompatible dtype float64.  This will discard the imaginary part and may not be what you intended.\n",
            "WARNING:tensorflow:You are casting an input of type complex128 to an incompatible dtype float64.  This will discard the imaginary part and may not be what you intended.\n",
            "WARNING:tensorflow:You are casting an input of type complex128 to an incompatible dtype float64.  This will discard the imaginary part and may not be what you intended.\n",
            "WARNING:tensorflow:You are casting an input of type complex128 to an incompatible dtype float64.  This will discard the imaginary part and may not be what you intended.\n",
            "WARNING:tensorflow:You are casting an input of type complex128 to an incompatible dtype float64.  This will discard the imaginary part and may not be what you intended.\n",
            "WARNING:tensorflow:You are casting an input of type complex128 to an incompatible dtype float64.  This will discard the imaginary part and may not be what you intended.\n",
            "WARNING:tensorflow:You are casting an input of type complex128 to an incompatible dtype float64.  This will discard the imaginary part and may not be what you intended.\n",
            "WARNING:tensorflow:You are casting an input of type complex128 to an incompatible dtype float64.  This will discard the imaginary part and may not be what you intended.\n",
            "WARNING:tensorflow:You are casting an input of type complex128 to an incompatible dtype float64.  This will discard the imaginary part and may not be what you intended.\n"
          ]
        },
        {
          "output_type": "stream",
          "name": "stdout",
          "text": [
            "3/3 [==============================] - 2s 544ms/step - loss: 0.4223 - accuracy: 0.7875\n",
            "2/2 [==============================] - 0s 99ms/step\n"
          ]
        }
      ],
      "source": [
        "#QUANTUM LAYER\n",
        "\"\"\"We make a quantum layer using Pennylane.\"\"\"\n",
        "\n",
        "# Set random seeds\n",
        "np.random.seed(42)\n",
        "tf.random.set_seed(42)\n",
        "\n",
        "n_qubits = 2\n",
        "dev = qml.device(\"default.qubit\", wires=n_qubits)\n",
        "\n",
        "@qml.qnode(dev)\n",
        "def qnode(inputs, weights):\n",
        "    qml.templates.AngleEmbedding(inputs, wires=range(n_qubits))\n",
        "    qml.templates.BasicEntanglerLayers(weights, wires=range(n_qubits))\n",
        "    return [qml.expval(qml.PauliZ(wires=i)) for i in range(n_qubits)]\n",
        "\n",
        "\"\"\"For the QNode to be successfully converted to a layer in Keras, we need to\n",
        "provide the details of the shape of each trainable weight for them to be initialized.\n",
        "The ``weight_shapes`` dictionary maps from the argument names of the QNode to corresponding shapes\"\"\"\n",
        "n_layers = 6\n",
        "weight_shapes = {\"weights\": (n_layers, n_qubits)}\n",
        "\n",
        "qlayer = qml.qnn.KerasLayer(qnode, weight_shapes, output_dim=n_qubits)\n",
        "print(\"Quantum layer created\")\n",
        "#%% CLASSICAL LAYERS + INTEGRATE\n",
        "# Create CLASSICAL layers\n",
        "\n",
        "tf.keras.backend.set_floatx('float64')\n",
        "\n",
        "model=Sequential() #create model\n",
        "\n",
        "#add layers to our hybrid model\n",
        "#activation parameters chosen arbitrarily - look into this!\n",
        "model.add(Dense(units=2, activation='swish'))\n",
        "model.add(qlayer)\n",
        "model.add(Dense(units=1,activation='sigmoid')) #Sigmoid is equivalent to a 2-element Softmax,\n",
        "#where the second element is assumed to be zero. The sigmoid function always returns a value between 0 and 1.\n",
        "print(\"Quantum and classical layers added\")\n",
        "\n",
        "opt = tf.keras.optimizers.SGD(learning_rate=0.01)\n",
        "model.compile(opt, loss=\"mae\", metrics=[\"accuracy\"])\n",
        "\n",
        "\n",
        "\n",
        "# history = model.fit(X_train, y_train, batch_size = 2, epochs = 1,validation_split=0.2)\n",
        "history = model.fit(X_train, y_train)\n",
        "predictions = model.predict(X_test)\n"
      ]
    },
    {
      "cell_type": "markdown",
      "metadata": {
        "id": "QBbLSbQ-WqWQ"
      },
      "source": [
        "# QML (Quantum Machine Learning)"
      ]
    },
    {
      "cell_type": "code",
      "execution_count": null,
      "metadata": {
        "id": "u4L7jzKDWsG3"
      },
      "outputs": [],
      "source": [
        "class KernalAnsatz(tq.QuantumModule):\n",
        "    def __init__(self, func_list):\n",
        "        super().__init__()\n",
        "        self.func_list = func_list\n",
        "\n",
        "    @tq.static_support\n",
        "    def forward(self, q_device: tq.QuantumDevice, x, y):\n",
        "        self.q_device = q_device\n",
        "        self.q_device.reset_states(x.shape[0])\n",
        "        for info in self.func_list:\n",
        "            if tq.op_name_dict[info['func']].num_params > 0:\n",
        "                params = x[:, info['input_idx']]\n",
        "            else:\n",
        "                params = None\n",
        "            func_name_dict[info['func']](\n",
        "                self.q_device,\n",
        "                wires=info['wires'],\n",
        "                params=params,\n",
        "            )\n",
        "        for info in reversed(self.func_list):\n",
        "            if tq.op_name_dict[info['func']].num_params > 0:\n",
        "                params = -y[:, info['input_idx']]\n",
        "            else:\n",
        "                params = None\n",
        "            func_name_dict[info['func']](\n",
        "                self.q_device,\n",
        "                wires=info['wires'],\n",
        "                params=params,\n",
        "            )"
      ]
    },
    {
      "cell_type": "code",
      "execution_count": null,
      "metadata": {
        "id": "kF-u4vm5XAx2"
      },
      "outputs": [],
      "source": [
        "class Kernel(tq.QuantumModule):\n",
        "    def __init__(self):\n",
        "        super().__init__()\n",
        "        self.n_wires = 4\n",
        "        self.q_device = tq.QuantumDevice(n_wires=self.n_wires)\n",
        "        self.ansatz = KernalAnsatz(\n",
        "        [   {'input_idx': [0], 'func': 'ry', 'wires': [0]},\n",
        "            {'input_idx': [1], 'func': 'ry', 'wires': [1]},\n",
        "            {'input_idx': [2], 'func': 'ry', 'wires': [2]},\n",
        "            {'input_idx': [3], 'func': 'ry', 'wires': [3]},])\n",
        "\n",
        "    def forward(self, x, y, use_qiskit=False):\n",
        "        # bsz=1\n",
        "        x = x.reshape(1, -1)\n",
        "        y = y.reshape(1, -1)\n",
        "        self.ansatz(self.q_device, x, y)\n",
        "        result = torch.abs(self.q_device.states.view(-1)[0])\n",
        "        return result"
      ]
    },
    {
      "cell_type": "code",
      "source": [
        "kernel_function = Kernel()\n",
        "def kernel_matrix(A, B):\n",
        "    return np.array([[kernel_function(a, b) for b in B] for a in A])\n",
        "\n",
        "qsvm = SVC(kernel=kernel_matrix, probability=True).fit(X_train, y_train)\n",
        "predictions = qsvm.predict(X_test)\n",
        "\n",
        "# Accuracy\n",
        "print(accuracy_score(predictions, y_test))     # 2m 5 sec Executiion time\n",
        "\n",
        "# Precision\n",
        "# print(precision_score(y_test, predictions))"
      ],
      "metadata": {
        "colab": {
          "base_uri": "https://localhost:8080/"
        },
        "id": "EkmHckYoJSbN",
        "outputId": "ed20892b-d195-428a-d617-ee764209b2c2"
      },
      "execution_count": null,
      "outputs": [
        {
          "output_type": "stream",
          "name": "stdout",
          "text": [
            "0.6470588235294118\n"
          ]
        }
      ]
    },
    {
      "cell_type": "code",
      "source": [
        "# import sklearn.metrics\n",
        "# Function created to calculate confusion matrix\n",
        "from sklearn.metrics import precision_score, recall_score, f1_score, accuracy_score,classification_report\n",
        "import matplotlib.pyplot as plt\n",
        "from sklearn.datasets import make_classification\n",
        "from sklearn.metrics import confusion_matrix, ConfusionMatrixDisplay\n",
        "\n",
        "from sklearn import model_selection\n",
        "from sklearn.metrics import roc_auc_score, roc_curve\n",
        "\n",
        "def calculate_confusion_matrix(model):\n",
        "  predictions = model.predict(X_test)\n",
        "  cm = confusion_matrix(y_test, predictions, labels=model.classes_)\n",
        "  disp = ConfusionMatrixDisplay(confusion_matrix=cm, display_labels=model.classes_)\n",
        "\n",
        "  disp.plot()\n",
        "  plt.show()\n",
        "\n",
        "  # precision = sklearn.metrics.precision_score(y_train, y_test, pos_label=\"positive\")\n",
        "  # print(precision)\n",
        "  y_pred = model.predict(X_test)\n",
        "  print('Precision: %.3f' % precision_score(y_test, y_pred, average='weighted'))\n",
        "  print('Recall: %.3f' % recall_score(y_test, y_pred, average='weighted'))\n",
        "  print('Accuracy: %.3f' % accuracy_score(y_test, y_pred))\n",
        "  print('F1 Score: %.3f' % f1_score(y_test, y_pred))\n",
        "\n",
        "  # # predict probabilities\n",
        "  # probs = model.predict_proba(X_test)\n",
        "  # # keep probabilities for the positive outcome only\n",
        "  # probs = probs[:, 1]\n",
        "\n",
        "  # auc = roc_auc_score(y_test, probs)\n",
        "  # print('AUC - Test Set: %.2f%%' % (auc*100))\n",
        "calculate_confusion_matrix(qsvm)"
      ],
      "metadata": {
        "colab": {
          "base_uri": "https://localhost:8080/",
          "height": 573
        },
        "id": "5h3AaaVGJhr6",
        "outputId": "efb8afae-c1f9-4073-d530-aa608942a1dc"
      },
      "execution_count": null,
      "outputs": [
        {
          "output_type": "display_data",
          "data": {
            "text/plain": [
              "<Figure size 640x480 with 2 Axes>"
            ],
            "image/png": "[encoded data removed]"
          },
          "metadata": {}
        },
        {
          "output_type": "stream",
          "name": "stdout",
          "text": [
            "Precision: 0.419\n",
            "Recall: 0.647\n",
            "Accuracy: 0.647\n",
            "F1 Score: 0.786\n"
          ]
        },
        {
          "output_type": "stream",
          "name": "stderr",
          "text": [
            "/usr/local/lib/python3.10/dist-packages/sklearn/metrics/_classification.py:1344: UndefinedMetricWarning: Precision is ill-defined and being set to 0.0 in labels with no predicted samples. Use `zero_division` parameter to control this behavior.\n",
            "  _warn_prf(average, modifier, msg_start, len(result))\n"
          ]
        }
      ]
    },
    {
      "cell_type": "markdown",
      "source": [
        "#CLASSICAL MODELS"
      ],
      "metadata": {
        "id": "l3iH_JvjK_Nm"
      }
    },
    {
      "cell_type": "code",
      "source": [
        "from sklearn.linear_model import LogisticRegression\n",
        "lg = LogisticRegression()\n",
        "lg.fit(X_train, y_train)\n",
        "calculate_confusion_matrix(lg)"
      ],
      "metadata": {
        "colab": {
          "base_uri": "https://localhost:8080/",
          "height": 518
        },
        "id": "chTOQ77KK-Rp",
        "outputId": "3d0de7f1-ccef-4f64-f1d4-40c55a2cd9c8"
      },
      "execution_count": null,
      "outputs": [
        {
          "output_type": "display_data",
          "data": {
            "text/plain": [
              "<Figure size 640x480 with 2 Axes>"
            ],
            "image/png": "[encoded data removed]"
          },
          "metadata": {}
        },
        {
          "output_type": "stream",
          "name": "stdout",
          "text": [
            "Precision: 0.674\n",
            "Recall: 0.676\n",
            "Accuracy: 0.676\n",
            "F1 Score: 0.792\n"
          ]
        }
      ]
    },
    {
      "cell_type": "code",
      "source": [
        "from sklearn.svm import LinearSVC, SVC\n",
        "lSVC = LinearSVC(random_state=0)\n",
        "lSVC.fit(X_train, y_train)\n",
        "calculate_confusion_matrix(lSVC)"
      ],
      "metadata": {
        "colab": {
          "base_uri": "https://localhost:8080/",
          "height": 518
        },
        "id": "LSG0pu0zK-y0",
        "outputId": "29a753cd-61f1-4eb2-c56d-2cf8fef01e00"
      },
      "execution_count": null,
      "outputs": [
        {
          "output_type": "display_data",
          "data": {
            "text/plain": [
              "<Figure size 640x480 with 2 Axes>"
            ],
            "image/png": "[encoded data removed]"
          },
          "metadata": {}
        },
        {
          "output_type": "stream",
          "name": "stdout",
          "text": [
            "Precision: 0.831\n",
            "Recall: 0.824\n",
            "Accuracy: 0.824\n",
            "F1 Score: 0.875\n"
          ]
        }
      ]
    },
    {
      "cell_type": "code",
      "source": [
        "from sklearn.datasets import make_classification\n",
        "from sklearn.model_selection import train_test_split\n",
        "from sklearn.metrics import accuracy_score\n",
        "import numpy as np\n",
        "from sklearn.preprocessing import StandardScaler\n",
        "from sklearn.linear_model import SGDClassifier\n",
        "from sklearn.utils import shuffle\n",
        "\n",
        "# Generate a synthetic dataset for demonstration\n",
        "X, y = make_classification(n_samples=1000, n_features=4, n_informative=2, n_classes=2, random_state=42)\n",
        "X, y = shuffle(X, y, random_state=42)\n",
        "\n",
        "# Split the data into training and testing sets\n",
        "X_train, X_test, y_train, y_test = train_test_split(X, y, test_size=0.2, random_state=42)\n",
        "\n",
        "# Feature Scaling\n",
        "scaler = StandardScaler()\n",
        "X_train = scaler.fit_transform(X_train)\n",
        "X_test = scaler.transform(X_test)\n",
        "\n",
        "# Pegasos QSVC using SGDClassifier\n",
        "pegasos_qsvc = SGDClassifier(loss='hinge', alpha=0.01, max_iter=1000, l1_ratio=0.1, random_state=42)\n",
        "pegasos_qsvc.fit(X_train, y_train)\n",
        "\n",
        "# Evaluate the model\n",
        "y_pred = pegasos_qsvc.predict(X_test)\n",
        "accuracy = accuracy_score(y_test, y_pred)\n",
        "print(\"Accuracy:\", accuracy)\n"
      ],
      "metadata": {
        "id": "MVCj-IAkmnzj",
        "outputId": "96610358-8a39-4eaf-e151-8212654578f7",
        "colab": {
          "base_uri": "https://localhost:8080/"
        }
      },
      "execution_count": null,
      "outputs": [
        {
          "output_type": "stream",
          "name": "stdout",
          "text": [
            "Accuracy: 0.845\n"
          ]
        }
      ]
    },
    {
      "cell_type": "markdown",
      "source": [
        "#**PEGASOS** QSVC"
      ],
      "metadata": {
        "id": "rn2Zkdz8nmG4"
      }
    },
    {
      "cell_type": "code",
      "source": [
        "\n",
        "# Function to calculate confusion matrix and evaluation metrics\n",
        "def calculate_confusion_matrix(model, X_test, y_test):\n",
        "    predictions = model.predict(X_test)\n",
        "\n",
        "    # Convert multiclass target labels to binary (0 or 1)\n",
        "    y_test_binary = convert_to_binary(y_test, positive_class=1)\n",
        "    predictions_binary = convert_to_binary(predictions, positive_class=1)\n",
        "\n",
        "    cm = confusion_matrix(y_test_binary, predictions_binary)\n",
        "    disp = ConfusionMatrixDisplay(confusion_matrix=cm)\n",
        "    disp.plot()\n",
        "    plt.show()\n",
        "\n",
        "    print('Precision: %.3f' % precision_score(y_test_binary, predictions_binary))\n",
        "    print('Recall: %.3f' % recall_score(y_test_binary, predictions_binary))\n",
        "    print('Accuracy: %.3f' % accuracy_score(y_test_binary, predictions_binary))\n",
        "    print('F1 Score: %.3f' % f1_score(y_test_binary, predictions_binary))\n",
        "\n",
        "\n",
        "# Calculate confusion matrix and evaluation metrics\n",
        "calculate_confusion_matrix(pegasos_qsvc, X_test, y_test)\n"
      ],
      "metadata": {
        "id": "efeZZ7Y9mFKL",
        "outputId": "ec69fcfd-39cf-4a28-d7ec-d5ee333acf48",
        "colab": {
          "base_uri": "https://localhost:8080/",
          "height": 518
        }
      },
      "execution_count": null,
      "outputs": [
        {
          "output_type": "display_data",
          "data": {
            "text/plain": [
              "<Figure size 640x480 with 2 Axes>"
            ],
            "image/png": "[encoded data removed]"
          },
          "metadata": {}
        },
        {
          "output_type": "stream",
          "name": "stdout",
          "text": [
            "Precision: 0.852\n",
            "Recall: 0.860\n",
            "Accuracy: 0.845\n",
            "F1 Score: 0.856\n"
          ]
        }
      ]
    },
    {
      "cell_type": "code",
      "source": [
        "import matplotlib.pyplot as plt\n",
        "\n",
        "# Model names\n",
        "models = ['QSVM', 'Pegasos QSVC', 'Logistic Regression', 'LinearSVC']\n",
        "\n",
        "# Accuracy values for each model\n",
        "accuracy = [64.7, 84.5, 70.6, 79.4]\n",
        "\n",
        "# Precision values for each model\n",
        "precision = [41.9, 85.2, 71.8, 80.6]\n",
        "\n",
        "# Recall values for each model\n",
        "recall = [64.7, 86.0, 70.6, 79.4]\n",
        "\n",
        "# F1 Score values for each model\n",
        "f1_score = [78.6, 85.6, 80.8, 85.7]\n",
        "\n",
        "# Create the line graph\n",
        "plt.figure(figsize=(10, 6))\n",
        "plt.plot(models, accuracy, marker='o', linestyle='-', color='b', label='Accuracy', markersize=10, linewidth=2)\n",
        "plt.plot(models, precision, marker='o', linestyle='-', color='g', label='Precision')\n",
        "plt.plot(models, recall, marker='o', linestyle='-', color='r', label='Recall')\n",
        "plt.plot(models, f1_score, marker='o', linestyle='-', color='purple', label='F1 Score')\n",
        "\n",
        "# Customize the plot\n",
        "plt.title('Model Performance')\n",
        "plt.xlabel('Models')\n",
        "plt.ylabel('Score')\n",
        "plt.legend(loc='best')\n",
        "plt.ylim(60, 100)  # Set the y-axis range from 0 to 100\n",
        "plt.grid(True)\n",
        "\n",
        "# Display the plot\n",
        "plt.show()\n"
      ],
      "metadata": {
        "id": "rWT6YB9mzO8f",
        "outputId": "4b05a5f2-9cb4-4365-d65c-ce1f6368b3c0",
        "colab": {
          "base_uri": "https://localhost:8080/",
          "height": 564
        }
      },
      "execution_count": null,
      "outputs": [
        {
          "output_type": "display_data",
          "data": {
            "text/plain": [
              "<Figure size 1000x600 with 1 Axes>"
            ],
            "image/png": "[encoded data removed]"
          },
          "metadata": {}
        }
      ]
    }
  ],
  "metadata": {
    "colab": {
      "provenance": []
    },
    "kernelspec": {
      "display_name": "Python 3",
      "name": "python3"
    },
    "language_info": {
      "name": "python"
    }
  },
  "nbformat": 4,
  "nbformat_minor": 0
}